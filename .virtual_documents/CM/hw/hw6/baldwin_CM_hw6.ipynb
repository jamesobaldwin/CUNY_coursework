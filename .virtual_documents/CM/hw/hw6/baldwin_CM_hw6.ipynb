import numpy as np
import matplotlib.pyplot as plt
import matplotlib.animation as animation
from functools import partial
from itertools import repeat
from multiprocessing import Pool, freeze_support

# Grid size (LxL)
L = 101

# Defining the number of steps
n = 1000

# Creating two arrays for containing x and y coordinates
# of size equal to the number of steps and filled up with 0's
x = np.zeros(n, dtype=int)
y = np.zeros(n, dtype=int)

# Starting point (center of the grid)
x[0] = L // 2
y[0] = L // 2

# Define directions and their probabilities
directions = np.array([
    [1, 0],   # Move right
    [-1, 0],  # Move left
    [0, 1],   # Move up
    [0, -1]   # Move down
])

standard_probs = [1/4, 1/4, 1/4, 1/4]
manhattan_probs = [1/6, 1/6, 1/3, 1/3]  # Adjusted probabilities

def make_movie(x, y, directions, probs, L: int=101, n: int=1000):
    # Perform the random walk
    for i in range(1, n):
        dx, dy = directions[np.random.choice(len(directions), p=probs)]
        # Update position while staying within bounds
        x[i] = min(max(x[i - 1] + dx, 0), L - 1)
        y[i] = min(max(y[i - 1] + dy, 0), L - 1)
    
    
    # # Filling the coordinates with random variables while ensuring movement stays within bounds
    # for i in range(1, n):
    #     valid_move = False
    #     while not valid_move:
    #         val = np.random.randint(1, 5)
    #         if val == 1 and x[i - 1] < L - 1:  # one step right if not at boundary
    #             if np.random.rand() < (1/3):
    #                 x[i] = x[i - 1] + 1
    #                 y[i] = y[i - 1]
    #                 valid_move = True
    #         elif val == 2 and x[i - 1] > 0:  # one step left if not at boundary
    #             if np.random.rand() < (1/3):
    #                 x[i] = x[i - 1] - 1
    #                 y[i] = y[i - 1]
    #                 valid_move = True
    #         elif val == 3 and y[i - 1] < L - 1:  # one step up if not at boundary
    #             x[i] = x[i - 1]
    #             y[i] = y[i - 1] + 1
    #             valid_move = True
    #         elif val == 4 and y[i - 1] > 0:  # one step down if not at boundary
    #             x[i] = x[i - 1]
    #             y[i] = y[i - 1] - 1
    #             valid_move = True
    
    #####################################################################################################################################
    #### ANIMATION ####
    #####################################################################################################################################
    # Set up the figure, axis, and plot elements
    fig, ax = plt.subplots(figsize=(6, 6))
    ax.set_xlim(0, L)
    ax.set_ylim(0, L)
    ax.set_title(f"Random Walk on {L}x{L} Grid ($n = {n}$ steps)")
    point, = ax.plot([], [], 'bo', markersize=5)  # The walker is represented by a single blue point
    path, = ax.plot([], [], 'b-', lw=0.5)  # The path is represented by a blue line
    
    # Initialize the point and path position
    def init():
        point.set_data([x[0]], [y[0]])
        path.set_data([], [])  # Start with an empty path
        return point, path
    
    # Update function for each frame
    def animate(i):
        point.set_data([x[i]], [y[i]])  # Update point position
        path.set_data(x[:i+1], y[:i+1])  # Update path to include all points up to current
        return point, path
    
    # Create the animation
    ani = animation.FuncAnimation(fig, animate, init_func=init, frames=n, interval=50, blit=True)
    
    # Save as a gif
    writergif = animation.PillowWriter(fps=1000)
    ani.save('random_walk_with_path.gif', writer=writergif)
    
    plt.show()
    
    #####################################################################################################################################
    #### PLOT ####
    #####################################################################################################################################
    # Plotting the random walk
    plt.figure(figsize=(10, 10))
    plt.title(f"Random Walk on {L}x{L} Grid ($n = {n}$ steps)")
    plt.plot(x, y, lw=0.4)
    plt.plot(x[0], y[0], color='red', marker='*', ms=10, label='start')
    plt.plot(x[-1], y[-1], color='yellow', marker='o', ms=10, label='finish')
    plt.xlim(0, L - 1)
    plt.ylim(0, L - 1)
    # plt.grid(True)
    plt.xlabel("X position")
    plt.ylabel("Y position")
    plt.legend(loc='upper right')
    plt.savefig('random_walk.png')
    plt.show()

# Use freeze_support for compatibility with multiprocessing on Windows
if __name__ == '__main__':
    freeze_support()
    
    # Initial positions
    x = np.zeros(n, dtype=int)
    y = np.zeros(n, dtype=int)
    x[0] = L // 2
    y[0] = L // 2
    
    # Run the multiprocessing pool
    with Pool(4) as pool:
        pool.starmap(make_movie, [(x, y, directions, standard_probs),
                                  (x, y, directions, manhattan_probs),
                                  (x, y, directions, standard_probs),
                                  (x, y, directions, manhattan_probs)])



