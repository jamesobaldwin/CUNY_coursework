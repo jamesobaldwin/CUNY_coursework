{
 "cells": [
  {
   "cell_type": "code",
   "execution_count": 1,
   "id": "e6a8e25e-cc2e-423c-a71c-11c02d029da3",
   "metadata": {},
   "outputs": [],
   "source": [
    "import numpy as np"
   ]
  },
  {
   "cell_type": "code",
   "execution_count": 12,
   "id": "2b369c40-4bf2-4a2e-a577-0840883139eb",
   "metadata": {},
   "outputs": [],
   "source": [
    "test = np.zeros([1,3])"
   ]
  },
  {
   "cell_type": "code",
   "execution_count": 13,
   "id": "e285876b-a18b-4356-a131-bf28fd117690",
   "metadata": {},
   "outputs": [
    {
     "data": {
      "text/plain": [
       "array([[0., 0., 0.]])"
      ]
     },
     "execution_count": 13,
     "metadata": {},
     "output_type": "execute_result"
    }
   ],
   "source": [
    "test"
   ]
  },
  {
   "cell_type": "code",
   "execution_count": 14,
   "id": "6f9fadbe-3e40-4dd7-b2ab-28dbed789365",
   "metadata": {},
   "outputs": [
    {
     "data": {
      "text/plain": [
       "(1, 3)"
      ]
     },
     "execution_count": 14,
     "metadata": {},
     "output_type": "execute_result"
    }
   ],
   "source": [
    "np.shape(test)"
   ]
  },
  {
   "cell_type": "code",
   "execution_count": 9,
   "id": "93697479-042d-476a-a8f6-de2ddb476cb2",
   "metadata": {},
   "outputs": [
    {
     "name": "stdout",
     "output_type": "stream",
     "text": [
      "[10]\n"
     ]
    }
   ],
   "source": [
    "print(test)"
   ]
  },
  {
   "cell_type": "code",
   "execution_count": null,
   "id": "32a66a01-b012-44b4-8f79-a1d71378b526",
   "metadata": {},
   "outputs": [],
   "source": []
  },
  {
   "cell_type": "code",
   "execution_count": 18,
   "id": "a8339fd3-972f-444d-9dac-641a0d5394d2",
   "metadata": {},
   "outputs": [],
   "source": [
    "test = np.array(np.random.randint(0,100,50))"
   ]
  },
  {
   "cell_type": "code",
   "execution_count": 19,
   "id": "a35822d2-0710-4b3b-ad34-4315f40ee06d",
   "metadata": {},
   "outputs": [
    {
     "data": {
      "text/plain": [
       "array([56, 93, 65, 97, 69, 60, 37, 39, 25, 43, 91, 62, 56, 27, 28,  6, 71,\n",
       "       85, 64, 50,  3, 36, 56, 36, 73, 41, 78, 34, 38, 48, 93, 36, 45, 62,\n",
       "       31, 41,  8, 97, 15, 74, 26, 71,  1, 39, 92, 17, 15, 32, 82,  7])"
      ]
     },
     "execution_count": 19,
     "metadata": {},
     "output_type": "execute_result"
    }
   ],
   "source": [
    "test"
   ]
  },
  {
   "cell_type": "code",
   "execution_count": 20,
   "id": "9b199c2a-91c3-472f-8262-3116d9ee4c6c",
   "metadata": {},
   "outputs": [
    {
     "data": {
      "text/plain": [
       "(50,)"
      ]
     },
     "execution_count": 20,
     "metadata": {},
     "output_type": "execute_result"
    }
   ],
   "source": [
    "np.shape(test)"
   ]
  },
  {
   "cell_type": "code",
   "execution_count": 21,
   "id": "cec5283a-058d-4338-8eb9-f009dec806f2",
   "metadata": {},
   "outputs": [
    {
     "data": {
      "text/plain": [
       "array([56])"
      ]
     },
     "execution_count": 21,
     "metadata": {},
     "output_type": "execute_result"
    }
   ],
   "source": [
    "test[:1]"
   ]
  },
  {
   "cell_type": "code",
   "execution_count": 22,
   "id": "9ccbe9e4-0ab8-4e87-86fc-74550f4e46a6",
   "metadata": {},
   "outputs": [
    {
     "data": {
      "text/plain": [
       "array([93, 65, 97, 69, 60, 37, 39, 25, 43, 91, 62, 56, 27, 28,  6, 71, 85,\n",
       "       64, 50,  3, 36, 56, 36, 73, 41, 78, 34, 38, 48, 93, 36, 45, 62, 31,\n",
       "       41,  8, 97, 15, 74, 26, 71,  1, 39, 92, 17, 15, 32, 82,  7])"
      ]
     },
     "execution_count": 22,
     "metadata": {},
     "output_type": "execute_result"
    }
   ],
   "source": [
    "test[1:]"
   ]
  },
  {
   "cell_type": "code",
   "execution_count": null,
   "id": "6c93d5eb-0b9f-4362-acdc-2d1777776ec9",
   "metadata": {},
   "outputs": [],
   "source": []
  }
 ],
 "metadata": {
  "kernelspec": {
   "display_name": "Python 3 (ipykernel)",
   "language": "python",
   "name": "python3"
  },
  "language_info": {
   "codemirror_mode": {
    "name": "ipython",
    "version": 3
   },
   "file_extension": ".py",
   "mimetype": "text/x-python",
   "name": "python",
   "nbconvert_exporter": "python",
   "pygments_lexer": "ipython3",
   "version": "3.12.4"
  }
 },
 "nbformat": 4,
 "nbformat_minor": 5
}
