{
 "cells": [
  {
   "cell_type": "code",
   "execution_count": null,
   "id": "df9fdc4e-2d12-4391-a0e8-91d41aaecad4",
   "metadata": {},
   "outputs": [],
   "source": [
    "import numpy as np\n",
    "import time\n",
    "\n",
    "beta = 0.01\n",
    "\n",
    "def En(n):\n",
    "    return (n + 1/2)\n",
    "\n",
    "def Z(En, N):\n",
    "    total_sum = 0\n",
    "    for n in range(N):\n",
    "        total_sum += np.exp(-beta * En(n))\n",
    "    return total_sum\n",
    "\n",
    "def avg_energy(Z, En, N):\n",
    "    total_avg_energy = 0\n",
    "    z = Z(En, N) \n",
    "    for n in range(N):\n",
    "        en = En(n)\n",
    "        total_avg_energy += (en * np.exp(-beta * en)) / z\n",
    "    return total_avg_energy"
   ]
  },
  {
   "cell_type": "code",
   "execution_count": null,
   "id": "b414ebb4-213c-44b9-9938-94694719f3da",
   "metadata": {},
   "outputs": [],
   "source": [
    "# Timing the execution\n",
    "start = time.time()\n",
    "\n",
    "energy = avg_energy(Z, En, 10000)\n",
    "\n",
    "end = time.time()\n",
    "\n",
    "print(\"Average energy: \", energy)\n",
    "print(\"Time: \", end - start)"
   ]
  },
  {
   "cell_type": "code",
   "execution_count": null,
   "id": "51f14ebf-efb1-49bc-a687-282f30fb54ab",
   "metadata": {},
   "outputs": [],
   "source": [
    "# Timing the execution\n",
    "start = time.time()\n",
    "\n",
    "energy = avg_energy(Z, En, 100000)\n",
    "\n",
    "end = time.time()\n",
    "\n",
    "print(\"Average energy: \", energy)\n",
    "print(\"Time: \", end - start)"
   ]
  },
  {
   "cell_type": "code",
   "execution_count": null,
   "id": "51a4c324-1857-4d03-87aa-fced5a80c433",
   "metadata": {},
   "outputs": [],
   "source": [
    "# Timing the execution\n",
    "start = time.time()\n",
    "\n",
    "energy = avg_energy(Z, En, 1000000)\n",
    "\n",
    "end = time.time()\n",
    "\n",
    "print(\"Average energy: \", energy)\n",
    "print(\"Time: \", end - start)"
   ]
  },
  {
   "cell_type": "code",
   "execution_count": 66,
   "id": "70426aac-3f7d-4d98-a5a6-5a23754c4f5e",
   "metadata": {},
   "outputs": [],
   "source": [
    "import numpy as np\n",
    "\n",
    "n = 10\n",
    "a = 0\n",
    "b = 2"
   ]
  },
  {
   "cell_type": "code",
   "execution_count": 88,
   "id": "00697bf8-f504-4dcf-ab49-a637f50b1117",
   "metadata": {},
   "outputs": [],
   "source": [
    "def f(x):\n",
    "    return (x**4 - 2*x + 1)"
   ]
  },
  {
   "cell_type": "code",
   "execution_count": 105,
   "id": "1ce40ca8-7119-4a16-a99f-f20c11275749",
   "metadata": {},
   "outputs": [
    {
     "name": "stdout",
     "output_type": "stream",
     "text": [
      "492.664\n"
     ]
    }
   ],
   "source": [
    "# trap rule\n",
    "\n",
    "dx = (b-a) / n\n",
    "kdx = np.arange(1, n+1)*dx\n",
    "Fterm = ( (1/2)*f(a) + (1/2)*f(b) )\n",
    "F = Fterm + f(a + kdx)\n",
    "F /= dx\n",
    "\n",
    "print(np.sum(F))"
   ]
  },
  {
   "cell_type": "code",
   "execution_count": 109,
   "id": "33f996dd-1a5c-43dc-b423-fe9b1363f8c5",
   "metadata": {},
   "outputs": [
    {
     "name": "stdout",
     "output_type": "stream",
     "text": [
      "0 2 10 0.2\n",
      "[1. 2. 3. 4. 5.] [1. 2. 3. 4.]\n",
      "4.400426666666667\n",
      "[0.08 0.16 0.24 0.32]\n"
     ]
    }
   ],
   "source": [
    "# Simpson's rule\n",
    "print(a, b, n, dx)\n",
    "k1 = np.arange(1, n/2+1)\n",
    "k2 = np.arange(1, n/2)\n",
    "print(k1,k2)\n",
    "Fterm3 = f(a) + f(b)\n",
    "Fterm1 = f(a+((2*k1)-1)*dx)\n",
    "Fterm2 = f(a+(2*k2*dx))\n",
    "F = Fterm3 + 4*np.sum(Fterm1) + 2*np.sum(Fterm2)\n",
    "F *= (dx/3)\n",
    "\n",
    "print(F)\n",
    "print(a+(2*k2*dx)*dx)"
   ]
  },
  {
   "cell_type": "code",
   "execution_count": null,
   "id": "e40f0690-1008-4a0c-a91e-ad9a55ab6511",
   "metadata": {},
   "outputs": [],
   "source": []
  },
  {
   "cell_type": "code",
   "execution_count": null,
   "id": "7312e154-b36f-4713-b692-cba3d1657b71",
   "metadata": {},
   "outputs": [],
   "source": []
  }
 ],
 "metadata": {
  "kernelspec": {
   "display_name": "Python 3 (ipykernel)",
   "language": "python",
   "name": "python3"
  },
  "language_info": {
   "codemirror_mode": {
    "name": "ipython",
    "version": 3
   },
   "file_extension": ".py",
   "mimetype": "text/x-python",
   "name": "python",
   "nbconvert_exporter": "python",
   "pygments_lexer": "ipython3",
   "version": "3.12.4"
  }
 },
 "nbformat": 4,
 "nbformat_minor": 5
}
