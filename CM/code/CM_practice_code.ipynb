{
 "cells": [
  {
   "cell_type": "code",
   "execution_count": 1,
   "id": "fdebb810-1577-4903-a224-83e4ef381ac7",
   "metadata": {},
   "outputs": [],
   "source": [
    "import numpy as np\n",
    "import matplotlib.pyplot as plt\n",
    "from numpy.linalg import solve, inv\n",
    "from scipy.linalg import solve_banded"
   ]
  },
  {
   "cell_type": "code",
   "execution_count": null,
   "id": "1c76af32-da08-4f17-8481-cb74e0e8efc6",
   "metadata": {},
   "outputs": [],
   "source": [
    "def f(x):\n",
    "    return 1 + (1/2)*np.tanh(2*x)\n",
    "    \n",
    "\n",
    "N = 100\n",
    "x = np.linspace(-2, 2, N)\n",
    "h = 1e-5\n",
    "\n",
    "df_dx = (f(x + (h/2)) - f(x - h/2)) / h "
   ]
  },
  {
   "cell_type": "code",
   "execution_count": null,
   "id": "8224c8e2-8146-42c0-bd50-c90941094103",
   "metadata": {},
   "outputs": [],
   "source": [
    "analytical = 1 / np.cosh(2*x)**2"
   ]
  },
  {
   "cell_type": "code",
   "execution_count": null,
   "id": "ea4abdf1-bc41-4b03-95db-ae715e985868",
   "metadata": {},
   "outputs": [],
   "source": [
    "plt.plot(x, df_dx, marker='.', label='numerical')\n",
    "plt.plot(x, analytical, label='analytical')\n",
    "plt.legend()"
   ]
  },
  {
   "cell_type": "code",
   "execution_count": null,
   "id": "4283d422-0f3c-481e-b2d7-d67c40bb90a6",
   "metadata": {},
   "outputs": [],
   "source": [
    "print(analytical - df_dx)"
   ]
  },
  {
   "cell_type": "code",
   "execution_count": null,
   "id": "9729dcef-12a1-4400-a657-b440c77289f7",
   "metadata": {},
   "outputs": [],
   "source": [
    "x"
   ]
  },
  {
   "cell_type": "code",
   "execution_count": null,
   "id": "8e7bd1b8-3ae4-44c4-990c-23ee3534c9d6",
   "metadata": {},
   "outputs": [],
   "source": [
    "def f1(x):\n",
    "    return 1 + 1/(2*np.tanh(2*x))\n",
    "\n",
    "def derive(f, x, h: int = 1e-5):\n",
    "    return (f(x + (h/2)) - f(x - h/2)) / h \n",
    "\n",
    "df_dx1 = (f1(x + (h/2)) - f1(x - h/2)) / h \n",
    "# yarr = derive(f1, x)\n",
    "analytical1 = -1 / (np.sinh(2*x)**2)"
   ]
  },
  {
   "cell_type": "code",
   "execution_count": null,
   "id": "a7a5e440-f372-4993-aed7-a957a8a0758d",
   "metadata": {},
   "outputs": [],
   "source": [
    "plt.plot(x, df_dx1, marker='.', label='numerical')\n",
    "# plt.plot(x, yarr, marker='.', label='numerical')\n",
    "plt.plot(x, analytical1, label='tanh downstairs')\n",
    "# plt.plot(x, analytical, label='tanh upstairs') \n",
    "# plt.ylim(-10000,10000)\n",
    "# plt.xscale('log')\n",
    "plt.legend()"
   ]
  },
  {
   "cell_type": "code",
   "execution_count": null,
   "id": "761efd88-b71b-4da6-8d0e-a02335340ac7",
   "metadata": {},
   "outputs": [],
   "source": [
    "df_dx1"
   ]
  },
  {
   "cell_type": "code",
   "execution_count": null,
   "id": "043722f1-6897-46e4-a5a3-67e571642c98",
   "metadata": {},
   "outputs": [],
   "source": [
    "yarr"
   ]
  },
  {
   "cell_type": "markdown",
   "id": "7a63eda2",
   "metadata": {},
   "source": [
    "# Interpolation"
   ]
  },
  {
   "cell_type": "code",
   "execution_count": null,
   "id": "c165e575",
   "metadata": {},
   "outputs": [],
   "source": [
    "x = [0,1,2,3,4]\n",
    "f = [1.,2.,5.,10.,17.]\n",
    "\n",
    "def interpolate(arr, f, x):\n",
    "    idx = np.searchsorted(arr, x)\n",
    "    print(idx)\n",
    "    \n",
    "    if idx == 0:\n",
    "        return arr[0]\n",
    "    elif idx == len(arr):\n",
    "        return arr[-1]\n",
    "    \n",
    "    a, b = arr[idx - 1], arr[idx]\n",
    "    print(a,b)\n",
    "    \n",
    "    y = f[a] + ((x - arr[a]) / (arr[b] - arr[a])) * (f[b] - f[a])\n",
    "    \n",
    "    return y\n",
    "\n",
    "interpolated_value = interpolate(x, f, 1.3)\n",
    "print(f\"Interpolated value: {interpolated_value}\")\n"
   ]
  },
  {
   "cell_type": "markdown",
   "id": "4f2dadef",
   "metadata": {},
   "source": [
    "# Gaussian Elimination with Backsub"
   ]
  },
  {
   "cell_type": "code",
   "execution_count": null,
   "id": "7bdb4e5d",
   "metadata": {},
   "outputs": [],
   "source": [
    "A = np.array([[2.,1,4,1],\n",
    "             [3,4,-1,-1],\n",
    "             [1,-4,1,5],\n",
    "             [2,-2,1,3]])\n",
    "v = np.array([-4.,3,9,7])\n"
   ]
  },
  {
   "cell_type": "code",
   "execution_count": null,
   "id": "8007a50f-0537-4ada-8bea-ee4972c28bcd",
   "metadata": {},
   "outputs": [],
   "source": [
    "# Volts problem\n",
    "vA = np.array([[4.,-1,-1,-1],\n",
    "               [-1,3,0,-1],\n",
    "               [-1,0,3,-1],\n",
    "               [-1,-1,-1,4]])\n",
    "vv = np.array([5,0,5,0])"
   ]
  },
  {
   "cell_type": "code",
   "execution_count": null,
   "id": "c4c86945",
   "metadata": {},
   "outputs": [],
   "source": [
    "################\n",
    "# for-loops\n",
    "################\n",
    "\n",
    "# Gaussian elim\n",
    "def gausselim(A,v):\n",
    "    N = len(v)\n",
    "    for m in range(N):\n",
    "        # divide by diag elem\n",
    "        div = A[m,m]\n",
    "        A[m,:] /= div\n",
    "        v[m] /= div\n",
    "\n",
    "        # subtract from lower rows \n",
    "        for i in range(m+1, N):\n",
    "            mult = A[i,m]\n",
    "            A[i,:] -= mult*A[m,:]\n",
    "            v[i] -= mult*v[m]\n",
    "\n",
    "    # Back substitution\n",
    "    x = np.zeros(N)\n",
    "    for m in range(N - 1, -1, -1):\n",
    "        x[m] = v[m] - np.dot(A[m, m + 1:], x[m + 1:])\n",
    "        \n",
    "    return x\n",
    "        \n",
    "print(gausselim(vA,vv))"
   ]
  },
  {
   "cell_type": "markdown",
   "id": "4e272653",
   "metadata": {},
   "source": [
    "### Partial Pivoting"
   ]
  },
  {
   "cell_type": "code",
   "execution_count": null,
   "id": "3f281961",
   "metadata": {},
   "outputs": [],
   "source": [
    "A1 = np.array([[0,1.,4,1],\n",
    "               [3,4,-1,-1],\n",
    "               [1,-4,1,5],\n",
    "               [2,-2,1,3]])\n",
    "\n",
    "v1 = np.array([-4.,3,9,7])"
   ]
  },
  {
   "cell_type": "code",
   "execution_count": null,
   "id": "54624acc",
   "metadata": {},
   "outputs": [],
   "source": [
    "def part_pivot(A,v):\n",
    "    N = len(v)\n",
    "    for m in range(N):\n",
    "        \n",
    "        # check the row and swap if mth row \n",
    "        # does not have max value at mth element\n",
    "        idx = np.argmax(np.abs(A[m:,m])) + m\n",
    "        if idx != m:\n",
    "            A[[m, idx], :] = A[[idx, m], :]\n",
    "            v[[m, idx]] = v[[idx, m]]\n",
    "\n",
    "        # divide by diag elem\n",
    "        div = A[m,m]\n",
    "        A[m,:] /= div\n",
    "        v[m] /= div\n",
    "\n",
    "        # subtract from lower rows \n",
    "        for i in range(m+1, N):\n",
    "            mult = A[i,m]\n",
    "            A[i,:] -= mult*A[m,:]\n",
    "            v[i] -= mult*v[m]\n",
    "    \n",
    "    # Back substitution\n",
    "    x = np.zeros(N)\n",
    "    for m in range(N - 1, -1, -1):\n",
    "        x[m] = v[m] - np.dot(A[m, m + 1:], x[m + 1:])\n",
    "        \n",
    "    return x"
   ]
  },
  {
   "cell_type": "code",
   "execution_count": null,
   "id": "b1f8e25b",
   "metadata": {},
   "outputs": [],
   "source": [
    "part_pivot(A,v)"
   ]
  },
  {
   "cell_type": "code",
   "execution_count": null,
   "id": "78c3f0c9",
   "metadata": {},
   "outputs": [],
   "source": [
    "part_pivot(A1,v1)"
   ]
  },
  {
   "cell_type": "code",
   "execution_count": null,
   "id": "c3f3a214",
   "metadata": {},
   "outputs": [],
   "source": [
    "x = solve(A,v)\n",
    "x"
   ]
  },
  {
   "cell_type": "code",
   "execution_count": null,
   "id": "bce250cb-ce18-4030-8bec-17447ba60c85",
   "metadata": {},
   "outputs": [],
   "source": [
    "X = inv(A)\n",
    "X"
   ]
  },
  {
   "cell_type": "markdown",
   "id": "a224e2fc-389f-4412-81c4-6bce767d7a70",
   "metadata": {},
   "source": [
    "### tridiagonal matrices"
   ]
  },
  {
   "cell_type": "code",
   "execution_count": null,
   "id": "40d68c0b-8f68-41ad-8e7f-f1dcd5c642c2",
   "metadata": {},
   "outputs": [],
   "source": [
    "# constants\n",
    "N = 26\n",
    "C = 1.\n",
    "m = 1.\n",
    "k = 6.\n",
    "omega = 2.\n",
    "alpha = 2*k-(m*omega**2)\n",
    "\n",
    "# set up init values of arrays\n",
    "A = np.zeros([N,N])\n",
    "for i in range(N-1):\n",
    "    A[i,i] = alpha\n",
    "    A[i,i+1] = -k\n",
    "    A[i+1,i] = -k\n",
    "\n",
    "A[0,0] = alpha - k\n",
    "A[N-1,N-1] = alpha - k\n",
    "v = np.zeros(N)\n",
    "v[0]=C\n",
    "\n",
    "# print(\"A before Gaussian elim\")\n",
    "# print(A)\n",
    "\n",
    "# Gussian elim\n",
    "for i in range(N-1):\n",
    "\n",
    "    # divide row i by its diagonal elem\n",
    "    A[i,i+1] /= A[i,i]\n",
    "    v[i] /= A[i,i]\n",
    "    # print(f\"i: {i}\")\n",
    "    # print(f\"A after division at i={i}\")\n",
    "    # print(A)\n",
    "\n",
    "    # sub from next row down\n",
    "    A[i+1,i+1] -= A[i+1, i]*A[i,i+1]\n",
    "    v[i+1] -= A[i+1,i]*v[i]\n",
    "    # print(f\"A after subtracting next row at i={i}\")\n",
    "    # print(A)\n",
    "\n",
    "# divide last elem of v by last diag elem\n",
    "v[N-1] /= A[N-1, N-1]\n",
    "# print(\"A after dividing last elem of v by last diag elem\")\n",
    "# print(v)\n",
    "\n",
    "# backsub\n",
    "x = np.zeros(N)\n",
    "x[N-1] = v[N-1]\n",
    "for i in range(N-2, -1, -1):\n",
    "    x[i] = v[i] - A[i, i+1]*x[i+1]\n",
    "    # print(x[i])\n",
    "\n",
    "# plot\n",
    "plt.plot(x)\n",
    "plt.plot(x, \"ko\")\n",
    "plt.show()"
   ]
  },
  {
   "cell_type": "code",
   "execution_count": null,
   "id": "f219f0ee-2ee9-4555-8993-8fccf0d8b6d7",
   "metadata": {},
   "outputs": [],
   "source": [
    "A1 = np.zeros([3,N])\n",
    "A1[0,:] = -k\n",
    "A1[1,:] = alpha\n",
    "A1[2,:] = -k\n",
    "A1[1,0] = alpha - k\n",
    "A1[1,N-1] = alpha - k\n",
    "\n",
    "x1 = solve_banded((1,1),A1,v)\n",
    "plt.plot(x1)\n",
    "plt.plot(x1, 'ko')\n",
    "plt.show()"
   ]
  },
  {
   "cell_type": "markdown",
   "id": "1269305d-081a-4d60-8444-026f72b345c2",
   "metadata": {},
   "source": [
    "## Nonlinear Equations"
   ]
  },
  {
   "cell_type": "markdown",
   "id": "b55c1282-a684-415f-bc22-03bacf22ae07",
   "metadata": {},
   "source": [
    "### relaxation method"
   ]
  },
  {
   "cell_type": "code",
   "execution_count": null,
   "id": "2e5cfc00-2a04-45ed-b557-3f48ec4fa5f7",
   "metadata": {},
   "outputs": [],
   "source": [
    "from math import exp"
   ]
  },
  {
   "cell_type": "code",
   "execution_count": null,
   "id": "519d085c-6e3f-4375-83b7-cc52b3dc3c39",
   "metadata": {},
   "outputs": [],
   "source": [
    "c = np.arange(0,3.1,0.1)\n",
    "x = 1\n",
    "\n",
    "def fn(c):\n",
    "    return 1 - np.exp(-c*x)\n",
    "\n",
    "def relax(func, c, guess):\n",
    "    for k in range(100):\n",
    "        guess = func(c)\n",
    "    return guess\n",
    "\n",
    "solns = relax(fn, c, x) "
   ]
  },
  {
   "cell_type": "code",
   "execution_count": null,
   "id": "6bd1ff12-03d9-4a57-be87-b0b0487a73f5",
   "metadata": {},
   "outputs": [],
   "source": [
    "for k in range(100):\n",
    "    x = fn(c)"
   ]
  },
  {
   "cell_type": "code",
   "execution_count": null,
   "id": "98e9c04f-f407-41de-95ef-28e26fe35ea3",
   "metadata": {},
   "outputs": [],
   "source": [
    "plt.plot(c, solns, label=f'f(x)={solns[-1]:.3f}')\n",
    "plt.xlabel('C')\n",
    "plt.ylabel('x')\n",
    "plt.legend()\n",
    "plt.show()"
   ]
  },
  {
   "cell_type": "code",
   "execution_count": null,
   "id": "78159a15-a2cb-4b35-bb81-cbd915a031a6",
   "metadata": {},
   "outputs": [],
   "source": [
    "np.shape(solns)"
   ]
  },
  {
   "cell_type": "markdown",
   "id": "ed088525-ea73-444d-afe2-cea915fc1230",
   "metadata": {},
   "source": [
    "## Newton-Raphson"
   ]
  },
  {
   "cell_type": "code",
   "execution_count": 42,
   "id": "d96b6dcc-c82b-4f18-81b0-14c9c635f7e6",
   "metadata": {},
   "outputs": [
    {
     "data": {
      "image/png": "[encoded data removed]",
      "text/plain": [
       "<Figure size 640x480 with 1 Axes>"
      ]
     },
     "metadata": {},
     "output_type": "display_data"
    }
   ],
   "source": [
    "# example 6.4: inverse hyperbolic tangent\n",
    "\n",
    "eps = 1e-12\n",
    "\n",
    "def arctanh(u):\n",
    "    x = 0.\n",
    "    delta = 1.\n",
    "    while np.abs(delta) > eps:\n",
    "        delta = (np.tanh(x) - u)*np.cosh(x)**2\n",
    "        x -= delta\n",
    "    return x\n",
    "\n",
    "# python/vectorization solution\n",
    "arctanh_vec = np.vectorize(arctanh)\n",
    "u_vals_vec = np.linspace(-0.99, 0.99, 100)\n",
    "x_points_vec = arctanh_vec(u_vals)\n",
    "\n",
    "# generic solution\n",
    "u_vals_gen = np.linspace(-0.99, 0.99, 100)\n",
    "x_points_gen = []\n",
    "for u in u_vals:\n",
    "    x_points_gen.append(arctanh(u))\n",
    "\n",
    "plt.plot(u_vals_vec, x_points_vec, label='vecorization')\n",
    "plt.scatter(u_vals_gen, x_points_gen, color='orange', alpha=0.4, label='generic')\n",
    "plt.xlabel('u')\n",
    "plt.ylabel('x')\n",
    "plt.grid(alpha=0.4)\n",
    "plt.legend()\n",
    "plt.show()\n",
    "\n"
   ]
  },
  {
   "cell_type": "code",
   "execution_count": 117,
   "id": "1c057907-331d-480e-96f9-08924453cc3e",
   "metadata": {},
   "outputs": [
    {
     "data": {
      "image/png": "[encoded data removed]",
      "text/plain": [
       "<Figure size 640x480 with 1 Axes>"
      ]
     },
     "metadata": {},
     "output_type": "display_data"
    },
    {
     "data": {
      "image/png": "[encoded data removed]",
      "text/plain": [
       "<Figure size 640x480 with 1 Axes>"
      ]
     },
     "metadata": {},
     "output_type": "display_data"
    },
    {
     "name": "stdout",
     "output_type": "stream",
     "text": [
      "Root 1: 0.0337652429\n",
      "Root 2: 0.1693953068\n",
      "Root 3: 0.3806904070\n",
      "Root 4: 0.6193095930\n",
      "Root 5: 0.8306046932\n",
      "Root 6: 0.9662347571\n"
     ]
    }
   ],
   "source": [
    "# Exercise 6.15: The roots of a polynomial\n",
    "\n",
    "def P(x):\n",
    "    return 924*x**6 - 2772*x**5 + 3150*x**4 - 1680*x**3 + 420*x**2 - 42*x + 1\n",
    "\n",
    "x_vals = np.linspace(0, 1, 1000)\n",
    "y_vals = P(x_vals)\n",
    "\n",
    "plt.plot(x_vals, y_vals)\n",
    "plt.axhline(0, linestyle='--')\n",
    "plt.show()\n",
    "\n",
    "def Pp(x):\n",
    "    return (6*924)*x**5 - (5*2772)*x**4 + (4*3150)*x**3 - (3*1680)*x**2 +(2*420)*x - 42\n",
    "\n",
    "# Newton-Raphson method to find roots\n",
    "def find_roots(guess_arr, eps=1e-10):\n",
    "    roots = []\n",
    "    for guess in guess_arr:\n",
    "        delta = 1.\n",
    "        iters = 0\n",
    "        while np.abs(delta) > eps and iters < 1000:\n",
    "            delta = P(guess) / Pp(guess)\n",
    "            guess -= delta\n",
    "            iters += 1\n",
    "        if iters >= 1000:\n",
    "            print(\"Reached max iterations for guess:\", guess)\n",
    "        roots.append(guess)\n",
    "    return roots\n",
    "\n",
    "root_guesses = np.array([0.05, 0.19, 0.4, 0.61, 0.82, 0.96])\n",
    "\n",
    "# Find the roots using the Newton-Raphson method\n",
    "roots = find_roots(root_guesses)\n",
    "\n",
    "# Plot the polynomial and the found roots\n",
    "x_vals = np.linspace(0, 1, 1000)\n",
    "y_vals = P(x_vals)\n",
    "\n",
    "plt.plot(x_vals, y_vals, label=\"P(x)\")\n",
    "plt.axhline(0, color='black', linestyle='--')\n",
    "\n",
    "# Mark the roots on the plot\n",
    "for i, root in enumerate(roots):\n",
    "    if i == 0:\n",
    "        plt.plot(root, 0, 'ro', alpha=1, label='roots')  # plot root at y=0\n",
    "    else:\n",
    "        plt.plot(root, 0, 'ro', alpha=1)  # plot root at y=0\n",
    "\n",
    "for i, guess in enumerate(root_guesses):\n",
    "    if i == 0:\n",
    "        plt.plot(guess, 0, 'bo', label='initial guess')\n",
    "    else:\n",
    "        plt.plot(guess, 0, 'bo')\n",
    "\n",
    "plt.legend(loc='center')\n",
    "plt.show()\n",
    "\n",
    "# Print the roots to 10 decimal places\n",
    "for i, root in enumerate(roots):\n",
    "    print(f\"Root {i+1}: {root:.10f}\")"
   ]
  },
  {
   "cell_type": "markdown",
   "id": "7c61bc48-80a9-45a7-8eb0-33765121b713",
   "metadata": {},
   "source": [
    "### Secant method"
   ]
  },
  {
   "cell_type": "code",
   "execution_count": 132,
   "id": "b5f3e5bb-0781-4cd4-b0c3-4ea8e7e2ce15",
   "metadata": {},
   "outputs": [
    {
     "name": "stdout",
     "output_type": "stream",
     "text": [
      "L1 is a distance 2.5627e+08 meters from Earth.\n"
     ]
    }
   ],
   "source": [
    "# Exercise 6.16: The Lagrange Point\n",
    "\n",
    "# constants\n",
    "G = 6.674e-11     \n",
    "M = 5.974e24         # mass Earth\n",
    "m = 7.348e22         # mass moon\n",
    "R = 3.844e8          # dist from Earth to L1\n",
    "omega = 2.662e-6     # angular velo\n",
    "\n",
    "# strting guess is 2/3 R\n",
    "r1_guess = (2/3)*R\n",
    "r2_guess = r1_guess + 1e5\n",
    "\n",
    "######################\n",
    "# SECANT METHOD\n",
    "######################\n",
    "\n",
    "def forces(r):\n",
    "    return ( (G*M) / r**2 ) - ( (G*m) / (R - r)**2 ) - (omega**2*r)\n",
    "\n",
    "def find_L1(x1, x2, eps: float=1e-4):\n",
    "    delta = 1e4\n",
    "    iters = 1\n",
    "    while np.abs(delta) > eps and iters < 1000:\n",
    "        delta = forces(x2)*( (x2 - x1) / forces(x2) - forces(x1) )\n",
    "        x1, x2 = x2, x2-delta\n",
    "        iters += 1\n",
    "        if iters > 1000:\n",
    "            print('Reached max iters')\n",
    "        return x2\n",
    "\n",
    "L1 = find_L1(r1_guess, r2_guess)\n",
    "print(f'L1 is a distance {L1:.4e} meters from Earth.')"
   ]
  },
  {
   "cell_type": "code",
   "execution_count": null,
   "id": "9994e1ad-bc64-4452-9e27-e3a1d4da85ef",
   "metadata": {},
   "outputs": [],
   "source": []
  }
 ],
 "metadata": {
  "kernelspec": {
   "display_name": "Python 3 (ipykernel)",
   "language": "python",
   "name": "python3"
  },
  "language_info": {
   "codemirror_mode": {
    "name": "ipython",
    "version": 3
   },
   "file_extension": ".py",
   "mimetype": "text/x-python",
   "name": "python",
   "nbconvert_exporter": "python",
   "pygments_lexer": "ipython3",
   "version": "3.12.4"
  }
 },
 "nbformat": 4,
 "nbformat_minor": 5
}
